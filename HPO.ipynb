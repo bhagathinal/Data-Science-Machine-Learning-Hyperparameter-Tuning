{
 "cells": [
  {
   "cell_type": "markdown",
   "id": "84f760d3",
   "metadata": {},
   "source": [
    "# Load MNIST dataset"
   ]
  },
  {
   "cell_type": "code",
   "execution_count": null,
   "id": "4eb2a01c",
   "metadata": {},
   "outputs": [],
   "source": [
    "from sklearn import datasets\n",
    "import pandas as pd \n",
    "import numpy as np\n",
    "import seaborn as sns \n",
    "import scipy.stats as stats\n",
    "import matplotlib.pyplot as plt"
   ]
  },
  {
   "cell_type": "code",
   "execution_count": 3,
   "id": "d4772699",
   "metadata": {},
   "outputs": [],
   "source": [
    "df = datasets.load_digits()\n",
    "x = df.data\n",
    "y = df.target"
   ]
  },
  {
   "cell_type": "code",
   "execution_count": 3,
   "id": "e988e068",
   "metadata": {},
   "outputs": [
    {
     "data": {
      "text/plain": [
       "{'data': array([[ 0.,  0.,  5., ...,  0.,  0.,  0.],\n",
       "        [ 0.,  0.,  0., ..., 10.,  0.,  0.],\n",
       "        [ 0.,  0.,  0., ..., 16.,  9.,  0.],\n",
       "        ...,\n",
       "        [ 0.,  0.,  1., ...,  6.,  0.,  0.],\n",
       "        [ 0.,  0.,  2., ..., 12.,  0.,  0.],\n",
       "        [ 0.,  0., 10., ..., 12.,  1.,  0.]]),\n",
       " 'target': array([0, 1, 2, ..., 8, 9, 8]),\n",
       " 'frame': None,\n",
       " 'feature_names': ['pixel_0_0',\n",
       "  'pixel_0_1',\n",
       "  'pixel_0_2',\n",
       "  'pixel_0_3',\n",
       "  'pixel_0_4',\n",
       "  'pixel_0_5',\n",
       "  'pixel_0_6',\n",
       "  'pixel_0_7',\n",
       "  'pixel_1_0',\n",
       "  'pixel_1_1',\n",
       "  'pixel_1_2',\n",
       "  'pixel_1_3',\n",
       "  'pixel_1_4',\n",
       "  'pixel_1_5',\n",
       "  'pixel_1_6',\n",
       "  'pixel_1_7',\n",
       "  'pixel_2_0',\n",
       "  'pixel_2_1',\n",
       "  'pixel_2_2',\n",
       "  'pixel_2_3',\n",
       "  'pixel_2_4',\n",
       "  'pixel_2_5',\n",
       "  'pixel_2_6',\n",
       "  'pixel_2_7',\n",
       "  'pixel_3_0',\n",
       "  'pixel_3_1',\n",
       "  'pixel_3_2',\n",
       "  'pixel_3_3',\n",
       "  'pixel_3_4',\n",
       "  'pixel_3_5',\n",
       "  'pixel_3_6',\n",
       "  'pixel_3_7',\n",
       "  'pixel_4_0',\n",
       "  'pixel_4_1',\n",
       "  'pixel_4_2',\n",
       "  'pixel_4_3',\n",
       "  'pixel_4_4',\n",
       "  'pixel_4_5',\n",
       "  'pixel_4_6',\n",
       "  'pixel_4_7',\n",
       "  'pixel_5_0',\n",
       "  'pixel_5_1',\n",
       "  'pixel_5_2',\n",
       "  'pixel_5_3',\n",
       "  'pixel_5_4',\n",
       "  'pixel_5_5',\n",
       "  'pixel_5_6',\n",
       "  'pixel_5_7',\n",
       "  'pixel_6_0',\n",
       "  'pixel_6_1',\n",
       "  'pixel_6_2',\n",
       "  'pixel_6_3',\n",
       "  'pixel_6_4',\n",
       "  'pixel_6_5',\n",
       "  'pixel_6_6',\n",
       "  'pixel_6_7',\n",
       "  'pixel_7_0',\n",
       "  'pixel_7_1',\n",
       "  'pixel_7_2',\n",
       "  'pixel_7_3',\n",
       "  'pixel_7_4',\n",
       "  'pixel_7_5',\n",
       "  'pixel_7_6',\n",
       "  'pixel_7_7'],\n",
       " 'target_names': array([0, 1, 2, 3, 4, 5, 6, 7, 8, 9]),\n",
       " 'images': array([[[ 0.,  0.,  5., ...,  1.,  0.,  0.],\n",
       "         [ 0.,  0., 13., ..., 15.,  5.,  0.],\n",
       "         [ 0.,  3., 15., ..., 11.,  8.,  0.],\n",
       "         ...,\n",
       "         [ 0.,  4., 11., ..., 12.,  7.,  0.],\n",
       "         [ 0.,  2., 14., ..., 12.,  0.,  0.],\n",
       "         [ 0.,  0.,  6., ...,  0.,  0.,  0.]],\n",
       " \n",
       "        [[ 0.,  0.,  0., ...,  5.,  0.,  0.],\n",
       "         [ 0.,  0.,  0., ...,  9.,  0.,  0.],\n",
       "         [ 0.,  0.,  3., ...,  6.,  0.,  0.],\n",
       "         ...,\n",
       "         [ 0.,  0.,  1., ...,  6.,  0.,  0.],\n",
       "         [ 0.,  0.,  1., ...,  6.,  0.,  0.],\n",
       "         [ 0.,  0.,  0., ..., 10.,  0.,  0.]],\n",
       " \n",
       "        [[ 0.,  0.,  0., ..., 12.,  0.,  0.],\n",
       "         [ 0.,  0.,  3., ..., 14.,  0.,  0.],\n",
       "         [ 0.,  0.,  8., ..., 16.,  0.,  0.],\n",
       "         ...,\n",
       "         [ 0.,  9., 16., ...,  0.,  0.,  0.],\n",
       "         [ 0.,  3., 13., ..., 11.,  5.,  0.],\n",
       "         [ 0.,  0.,  0., ..., 16.,  9.,  0.]],\n",
       " \n",
       "        ...,\n",
       " \n",
       "        [[ 0.,  0.,  1., ...,  1.,  0.,  0.],\n",
       "         [ 0.,  0., 13., ...,  2.,  1.,  0.],\n",
       "         [ 0.,  0., 16., ..., 16.,  5.,  0.],\n",
       "         ...,\n",
       "         [ 0.,  0., 16., ..., 15.,  0.,  0.],\n",
       "         [ 0.,  0., 15., ..., 16.,  0.,  0.],\n",
       "         [ 0.,  0.,  2., ...,  6.,  0.,  0.]],\n",
       " \n",
       "        [[ 0.,  0.,  2., ...,  0.,  0.,  0.],\n",
       "         [ 0.,  0., 14., ..., 15.,  1.,  0.],\n",
       "         [ 0.,  4., 16., ..., 16.,  7.,  0.],\n",
       "         ...,\n",
       "         [ 0.,  0.,  0., ..., 16.,  2.,  0.],\n",
       "         [ 0.,  0.,  4., ..., 16.,  2.,  0.],\n",
       "         [ 0.,  0.,  5., ..., 12.,  0.,  0.]],\n",
       " \n",
       "        [[ 0.,  0., 10., ...,  1.,  0.,  0.],\n",
       "         [ 0.,  2., 16., ...,  1.,  0.,  0.],\n",
       "         [ 0.,  0., 15., ..., 15.,  0.,  0.],\n",
       "         ...,\n",
       "         [ 0.,  4., 16., ..., 16.,  6.,  0.],\n",
       "         [ 0.,  8., 16., ..., 16.,  8.,  0.],\n",
       "         [ 0.,  1.,  8., ..., 12.,  1.,  0.]]]),\n",
       " 'DESCR': \".. _digits_dataset:\\n\\nOptical recognition of handwritten digits dataset\\n--------------------------------------------------\\n\\n**Data Set Characteristics:**\\n\\n    :Number of Instances: 1797\\n    :Number of Attributes: 64\\n    :Attribute Information: 8x8 image of integer pixels in the range 0..16.\\n    :Missing Attribute Values: None\\n    :Creator: E. Alpaydin (alpaydin '@' boun.edu.tr)\\n    :Date: July; 1998\\n\\nThis is a copy of the test set of the UCI ML hand-written digits datasets\\nhttps://archive.ics.uci.edu/ml/datasets/Optical+Recognition+of+Handwritten+Digits\\n\\nThe data set contains images of hand-written digits: 10 classes where\\neach class refers to a digit.\\n\\nPreprocessing programs made available by NIST were used to extract\\nnormalized bitmaps of handwritten digits from a preprinted form. From a\\ntotal of 43 people, 30 contributed to the training set and different 13\\nto the test set. 32x32 bitmaps are divided into nonoverlapping blocks of\\n4x4 and the number of on pixels are counted in each block. This generates\\nan input matrix of 8x8 where each element is an integer in the range\\n0..16. This reduces dimensionality and gives invariance to small\\ndistortions.\\n\\nFor info on NIST preprocessing routines, see M. D. Garris, J. L. Blue, G.\\nT. Candela, D. L. Dimmick, J. Geist, P. J. Grother, S. A. Janet, and C.\\nL. Wilson, NIST Form-Based Handprint Recognition System, NISTIR 5469,\\n1994.\\n\\n.. topic:: References\\n\\n  - C. Kaynak (1995) Methods of Combining Multiple Classifiers and Their\\n    Applications to Handwritten Digit Recognition, MSc Thesis, Institute of\\n    Graduate Studies in Science and Engineering, Bogazici University.\\n  - E. Alpaydin, C. Kaynak (1998) Cascading Classifiers, Kybernetika.\\n  - Ken Tang and Ponnuthurai N. Suganthan and Xi Yao and A. Kai Qin.\\n    Linear dimensionalityreduction using relevance weighted LDA. School of\\n    Electrical and Electronic Engineering Nanyang Technological University.\\n    2005.\\n  - Claudio Gentile. A New Approximate Maximal Margin Classification\\n    Algorithm. NIPS. 2000.\\n\"}"
      ]
     },
     "execution_count": 3,
     "metadata": {},
     "output_type": "execute_result"
    }
   ],
   "source": [
    "df\n"
   ]
  },
  {
   "cell_type": "code",
   "execution_count": 7,
   "id": "b71644ad",
   "metadata": {},
   "outputs": [
    {
     "name": "stdout",
     "output_type": "stream",
     "text": [
      "Number of samples: 1797\n",
      "Number of features: 64\n",
      "Number of classes: 10\n"
     ]
    }
   ],
   "source": [
    "print(f\"Number of samples: {len(x)}\")\n",
    "print(f\"Number of features: {x.shape[1]}\")\n",
    "print(f\"Number of classes: {len(np.unique(y))}\")"
   ]
  },
  {
   "cell_type": "code",
   "execution_count": 8,
   "id": "77d19067",
   "metadata": {},
   "outputs": [
    {
     "data": {
      "image/png": "[encoded data removed]",
      "text/plain": [
       "<Figure size 1000x300 with 10 Axes>"
      ]
     },
     "metadata": {},
     "output_type": "display_data"
    }
   ],
   "source": [
    "fig, axes = plt.subplots(2, 5, figsize=(10, 3)) \n",
    "\n",
    "axes = axes.flatten()\n",
    "\n",
    "for i in range(10):\n",
    "    ax = axes[i]\n",
    "    image = df.images[i]\n",
    "    label = df.target[i]\n",
    "\n",
    "    ax.set_axis_off()\n",
    "    ax.imshow(image, cmap=plt.cm.gray_r, interpolation=\"nearest\")\n",
    "    ax.set_title(\"Training: %i\" % label)\n",
    "\n",
    "plt.show()"
   ]
  },
  {
   "cell_type": "markdown",
   "id": "bddbce21",
   "metadata": {},
   "source": [
    "# Data Preprocessing"
   ]
  },
  {
   "cell_type": "code",
   "execution_count": 4,
   "id": "23c150e0",
   "metadata": {},
   "outputs": [],
   "source": [
    "from sklearn.model_selection import train_test_split\n",
    "\n",
    "x_train, x_test, y_train, y_test = train_test_split(x, y, test_size=0.2, random_state=42)\n"
   ]
  },
  {
   "cell_type": "code",
   "execution_count": 5,
   "id": "71671a55",
   "metadata": {},
   "outputs": [
    {
     "name": "stdout",
     "output_type": "stream",
     "text": [
      "x_train shape: (1437, 64), y_train shape: (1437,)\n",
      "x_test shape: (360, 64), y_test shape: (360,)\n"
     ]
    }
   ],
   "source": [
    "print(f\"x_train shape: {x_train.shape}, y_train shape: {y_train.shape}\")\n",
    "print(f\"x_test shape: {x_test.shape}, y_test shape: {y_test.shape}\")"
   ]
  },
  {
   "cell_type": "markdown",
   "id": "aee14a2d",
   "metadata": {},
   "source": [
    "# CLASSIFICATION BASED MODELS"
   ]
  },
  {
   "cell_type": "markdown",
   "id": "4be64e58",
   "metadata": {},
   "source": [
    "# Random Forest "
   ]
  },
  {
   "cell_type": "code",
   "execution_count": 6,
   "id": "192d896b",
   "metadata": {},
   "outputs": [],
   "source": [
    "from sklearn.model_selection import cross_val_score\n"
   ]
  },
  {
   "cell_type": "code",
   "execution_count": 7,
   "id": "023d0e5e",
   "metadata": {},
   "outputs": [
    {
     "name": "stdout",
     "output_type": "stream",
     "text": [
      "Accuracy:0.9398998330550917\n"
     ]
    }
   ],
   "source": [
    "from sklearn.ensemble import RandomForestClassifier\n",
    "\n",
    "rf = RandomForestClassifier()\n",
    "rf.fit(x,y)\n",
    "scores = cross_val_score(rf, x, y, cv=3,scoring='accuracy')\n",
    "print(\"Accuracy:\"+ str(scores.mean())) "
   ]
  },
  {
   "cell_type": "markdown",
   "id": "ce065b6d",
   "metadata": {},
   "source": [
    "# SVM"
   ]
  },
  {
   "cell_type": "code",
   "execution_count": 14,
   "id": "5f6c8682",
   "metadata": {},
   "outputs": [
    {
     "name": "stdout",
     "output_type": "stream",
     "text": [
      "Accuracy:0.9699499165275459\n"
     ]
    }
   ],
   "source": [
    "from sklearn.svm import SVC\n",
    "\n",
    "clf = SVC()\n",
    "clf.fit(x,y)\n",
    "scores = cross_val_score(clf, x, y, cv=3,scoring='accuracy')\n",
    "print(\"Accuracy:\"+ str(scores.mean()))"
   ]
  },
  {
   "cell_type": "markdown",
   "id": "e33ec0b7",
   "metadata": {},
   "source": [
    "# KNN"
   ]
  },
  {
   "cell_type": "code",
   "execution_count": 15,
   "id": "d44ccd64",
   "metadata": {},
   "outputs": [
    {
     "name": "stdout",
     "output_type": "stream",
     "text": [
      "Accuracy:0.9627156371730662\n"
     ]
    }
   ],
   "source": [
    "from sklearn.neighbors import KNeighborsClassifier\n",
    "\n",
    "knn = KNeighborsClassifier()\n",
    "knn.fit(x,y)\n",
    "scores = cross_val_score(knn, x, y, cv=3,scoring='accuracy')\n",
    "print(\"Accuracy:\"+ str(scores.mean()))"
   ]
  },
  {
   "cell_type": "markdown",
   "id": "9b955e7c",
   "metadata": {},
   "source": [
    "# Naive Bayes "
   ]
  },
  {
   "cell_type": "code",
   "execution_count": 16,
   "id": "9eea855c",
   "metadata": {},
   "outputs": [
    {
     "name": "stdout",
     "output_type": "stream",
     "text": [
      "Accuracy:0.8135781858653311\n"
     ]
    }
   ],
   "source": [
    "from sklearn.naive_bayes import GaussianNB\n",
    "\n",
    "nb = GaussianNB()\n",
    "nb.fit(x,y)\n",
    "scores = cross_val_score(nb, x, y, cv=3,scoring='accuracy')\n",
    "print(\"Accuracy:\"+ str(scores.mean()))"
   ]
  },
  {
   "cell_type": "markdown",
   "id": "123be6de",
   "metadata": {},
   "source": [
    "# Decison Tree "
   ]
  },
  {
   "cell_type": "code",
   "execution_count": 17,
   "id": "3fccda52",
   "metadata": {},
   "outputs": [
    {
     "name": "stdout",
     "output_type": "stream",
     "text": [
      "Accuracy:0.780189204229271\n"
     ]
    }
   ],
   "source": [
    "from sklearn.tree import DecisionTreeClassifier\n",
    "\n",
    "dt=DecisionTreeClassifier()\n",
    "dt.fit(x,y)\n",
    "scores = cross_val_score(dt, x, y, cv=3,scoring='accuracy')\n",
    "print(\"Accuracy:\"+ str(scores.mean()))"
   ]
  },
  {
   "cell_type": "markdown",
   "id": "fe1a670a",
   "metadata": {},
   "source": [
    "# Gradient Boosting "
   ]
  },
  {
   "cell_type": "code",
   "execution_count": 18,
   "id": "141a6a5e",
   "metadata": {},
   "outputs": [
    {
     "name": "stdout",
     "output_type": "stream",
     "text": [
      "Accuracy:0.9181969949916527\n"
     ]
    }
   ],
   "source": [
    "import xgboost as xgb\n",
    "\n",
    "xgb_clf = xgb.XGBClassifier(objective='multi:softmax', num_class=len(set(y)))\n",
    "xgb_clf.fit(x,y)\n",
    "scores = cross_val_score(xgb_clf, x, y, cv=3, scoring='accuracy')\n",
    "print(\"Accuracy:\"+str(scores.mean()))"
   ]
  },
  {
   "cell_type": "code",
   "execution_count": 21,
   "id": "d03af4a1",
   "metadata": {},
   "outputs": [
    {
     "name": "stdout",
     "output_type": "stream",
     "text": [
      "Before train-test split:\n",
      "x_train shape: (919, 64), y_train_one_hot shape: (919, 10)\n",
      "x_test shape: (360, 64), y_test_one_hot shape: (360, 10)\n",
      "\n",
      "After train-test split:\n",
      "x_train shape: (735, 64), y_train_one_hot shape: (735, 10)\n",
      "x_val shape: (184, 64), y_val_one_hot shape: (184, 10)\n"
     ]
    }
   ],
   "source": [
    "# Before train-test split\n",
    "print(\"Before train-test split:\")\n",
    "print(f\"x_train shape: {x_train.shape}, y_train_one_hot shape: {y_train_one_hot.shape}\")\n",
    "print(f\"x_test shape: {x_test.shape}, y_test_one_hot shape: {y_test_one_hot.shape}\")\n",
    "\n",
    "# Split the data into training and validation sets\n",
    "x_train, x_val, y_train_one_hot, y_val_one_hot = train_test_split(\n",
    "    x_train, y_train_one_hot, test_size=0.2, random_state=42\n",
    ")\n",
    "\n",
    "# Update the shapes\n",
    "print(\"\\nAfter train-test split:\")\n",
    "print(f\"x_train shape: {x_train.shape}, y_train_one_hot shape: {y_train_one_hot.shape}\")\n",
    "print(f\"x_val shape: {x_val.shape}, y_val_one_hot shape: {y_val_one_hot.shape}\")\n"
   ]
  },
  {
   "cell_type": "markdown",
   "id": "11267a6a",
   "metadata": {},
   "source": [
    "# NEURAL NETWORK MODELS"
   ]
  },
  {
   "cell_type": "markdown",
   "id": "5e1cb697",
   "metadata": {},
   "source": [
    "# CNN"
   ]
  },
  {
   "cell_type": "code",
   "execution_count": 22,
   "id": "58c8fa46",
   "metadata": {},
   "outputs": [
    {
     "name": "stdout",
     "output_type": "stream",
     "text": [
      "Epoch 1/10\n",
      "WARNING:tensorflow:From C:\\Users\\HINAL\\anaconda3\\Lib\\site-packages\\keras\\src\\utils\\tf_utils.py:492: The name tf.ragged.RaggedTensorValue is deprecated. Please use tf.compat.v1.ragged.RaggedTensorValue instead.\n",
      "\n",
      "WARNING:tensorflow:From C:\\Users\\HINAL\\anaconda3\\Lib\\site-packages\\keras\\src\\engine\\base_layer_utils.py:384: The name tf.executing_eagerly_outside_functions is deprecated. Please use tf.compat.v1.executing_eagerly_outside_functions instead.\n",
      "\n",
      "40/40 - 2s - loss: 1.4160 - accuracy: 0.5951 - val_loss: 0.4381 - val_accuracy: 0.8815 - 2s/epoch - 53ms/step\n",
      "Epoch 2/10\n",
      "40/40 - 0s - loss: 0.3011 - accuracy: 0.9133 - val_loss: 0.2190 - val_accuracy: 0.9444 - 290ms/epoch - 7ms/step\n",
      "Epoch 3/10\n",
      "40/40 - 0s - loss: 0.1504 - accuracy: 0.9634 - val_loss: 0.1571 - val_accuracy: 0.9481 - 267ms/epoch - 7ms/step\n",
      "Epoch 4/10\n",
      "40/40 - 0s - loss: 0.1002 - accuracy: 0.9722 - val_loss: 0.1386 - val_accuracy: 0.9519 - 251ms/epoch - 6ms/step\n",
      "Epoch 5/10\n",
      "40/40 - 0s - loss: 0.0707 - accuracy: 0.9873 - val_loss: 0.0746 - val_accuracy: 0.9741 - 254ms/epoch - 6ms/step\n",
      "Epoch 6/10\n",
      "40/40 - 0s - loss: 0.0546 - accuracy: 0.9873 - val_loss: 0.0600 - val_accuracy: 0.9926 - 260ms/epoch - 7ms/step\n",
      "Epoch 7/10\n",
      "40/40 - 0s - loss: 0.0414 - accuracy: 0.9952 - val_loss: 0.0471 - val_accuracy: 0.9926 - 386ms/epoch - 10ms/step\n",
      "Epoch 8/10\n",
      "40/40 - 0s - loss: 0.0293 - accuracy: 0.9952 - val_loss: 0.0508 - val_accuracy: 0.9815 - 334ms/epoch - 8ms/step\n",
      "Epoch 9/10\n",
      "40/40 - 0s - loss: 0.0227 - accuracy: 0.9984 - val_loss: 0.0505 - val_accuracy: 0.9889 - 332ms/epoch - 8ms/step\n",
      "Epoch 10/10\n",
      "40/40 - 0s - loss: 0.0207 - accuracy: 0.9968 - val_loss: 0.0728 - val_accuracy: 0.9741 - 277ms/epoch - 7ms/step\n",
      "9/9 - 0s - loss: 0.0938 - accuracy: 0.9778 - 82ms/epoch - 9ms/step\n",
      "Test Accuracy: 0.9777777791023254\n"
     ]
    }
   ],
   "source": [
    "from sklearn.model_selection import train_test_split\n",
    "from sklearn.preprocessing import LabelEncoder\n",
    "from keras.utils import to_categorical\n",
    "from keras.models import Sequential\n",
    "from keras.layers import Conv2D, MaxPooling2D, Flatten, Dense\n",
    "\n",
    "# Convert labels to one-hot encoding\n",
    "label_encoder = LabelEncoder()\n",
    "y_encoded = label_encoder.fit_transform(y)\n",
    "y_one_hot = to_categorical(y_encoded)\n",
    "\n",
    "# Split the data into training, validation, and test sets\n",
    "x_train, x_temp, y_train_one_hot, y_temp_one_hot = train_test_split(x, y_one_hot, test_size=0.3, random_state=42)\n",
    "x_val, x_test, y_val_one_hot, y_test_one_hot = train_test_split(x_temp, y_temp_one_hot, test_size=0.5, random_state=42)\n",
    "\n",
    "# Reshape the data for CNN input\n",
    "x_train = x_train.reshape((-1, 8, 8, 1))\n",
    "x_val = x_val.reshape((-1, 8, 8, 1))\n",
    "x_test = x_test.reshape((-1, 8, 8, 1))\n",
    "\n",
    "# Create the CNN model\n",
    "model_cnn = Sequential()\n",
    "model_cnn.add(Conv2D(32, (3, 3), input_shape=(8, 8, 1), activation='relu'))\n",
    "model_cnn.add(MaxPooling2D(pool_size=(2, 2)))\n",
    "model_cnn.add(Flatten())\n",
    "model_cnn.add(Dense(128, activation='relu'))\n",
    "model_cnn.add(Dense(10, activation='softmax'))\n",
    "\n",
    "# Compile the model\n",
    "model_cnn.compile(optimizer='adam', loss='categorical_crossentropy', metrics=['accuracy'])\n",
    "\n",
    "# Train the model\n",
    "model_cnn.fit(x_train, y_train_one_hot, epochs=10, batch_size=32, validation_data=(x_val, y_val_one_hot), verbose=2)\n",
    "\n",
    "# Evaluate the model on the test set\n",
    "test_loss, test_accuracy = model_cnn.evaluate(x_test, y_test_one_hot, verbose=2)\n",
    "print(f'Test Accuracy: {test_accuracy}')\n"
   ]
  },
  {
   "cell_type": "markdown",
   "id": "0786efa9",
   "metadata": {},
   "source": [
    "# RNN"
   ]
  },
  {
   "cell_type": "code",
   "execution_count": 23,
   "id": "5d81b13b",
   "metadata": {},
   "outputs": [
    {
     "name": "stdout",
     "output_type": "stream",
     "text": [
      "Epoch 1/10\n",
      "40/40 - 3s - loss: 1.9629 - accuracy: 0.3405 - val_loss: 1.3988 - val_accuracy: 0.5370 - 3s/epoch - 67ms/step\n",
      "Epoch 2/10\n",
      "40/40 - 0s - loss: 0.9954 - accuracy: 0.6706 - val_loss: 0.7894 - val_accuracy: 0.7407 - 239ms/epoch - 6ms/step\n",
      "Epoch 3/10\n",
      "40/40 - 0s - loss: 0.6096 - accuracy: 0.7916 - val_loss: 0.5555 - val_accuracy: 0.8074 - 220ms/epoch - 6ms/step\n",
      "Epoch 4/10\n",
      "40/40 - 0s - loss: 0.3902 - accuracy: 0.8759 - val_loss: 0.3733 - val_accuracy: 0.8593 - 208ms/epoch - 5ms/step\n",
      "Epoch 5/10\n",
      "40/40 - 0s - loss: 0.2829 - accuracy: 0.9157 - val_loss: 0.2799 - val_accuracy: 0.9037 - 225ms/epoch - 6ms/step\n",
      "Epoch 6/10\n",
      "40/40 - 0s - loss: 0.2202 - accuracy: 0.9324 - val_loss: 0.2514 - val_accuracy: 0.9074 - 225ms/epoch - 6ms/step\n",
      "Epoch 7/10\n",
      "40/40 - 0s - loss: 0.1668 - accuracy: 0.9491 - val_loss: 0.2331 - val_accuracy: 0.9074 - 213ms/epoch - 5ms/step\n",
      "Epoch 8/10\n",
      "40/40 - 0s - loss: 0.1359 - accuracy: 0.9626 - val_loss: 0.1996 - val_accuracy: 0.9296 - 280ms/epoch - 7ms/step\n",
      "Epoch 9/10\n",
      "40/40 - 0s - loss: 0.1065 - accuracy: 0.9730 - val_loss: 0.1721 - val_accuracy: 0.9333 - 253ms/epoch - 6ms/step\n",
      "Epoch 10/10\n",
      "40/40 - 0s - loss: 0.0896 - accuracy: 0.9722 - val_loss: 0.2057 - val_accuracy: 0.9111 - 316ms/epoch - 8ms/step\n",
      "9/9 - 0s - loss: 0.2711 - accuracy: 0.9185 - 66ms/epoch - 7ms/step\n",
      "Test Accuracy: 0.9185185432434082\n"
     ]
    }
   ],
   "source": [
    "from sklearn.model_selection import train_test_split\n",
    "from sklearn.preprocessing import LabelEncoder\n",
    "from keras.utils import to_categorical\n",
    "from keras.models import Sequential\n",
    "from keras.layers import SimpleRNN, Dense\n",
    "\n",
    "# Assuming x, y are your data and labels\n",
    "# Ensure that y contains class labels (0 to 9)\n",
    "\n",
    "# Assuming x has shape (num_samples, 64)\n",
    "# Assuming y is a 1D array of class labels\n",
    "\n",
    "# Convert labels to one-hot encoding\n",
    "label_encoder = LabelEncoder()\n",
    "y_encoded = label_encoder.fit_transform(y)\n",
    "y_one_hot = to_categorical(y_encoded)\n",
    "\n",
    "# Split the data into training, validation, and test sets\n",
    "x_train, x_temp, y_train_one_hot, y_temp_one_hot = train_test_split(x, y_one_hot, test_size=0.3, random_state=42)\n",
    "x_val, x_test, y_val_one_hot, y_test_one_hot = train_test_split(x_temp, y_temp_one_hot, test_size=0.5, random_state=42)\n",
    "\n",
    "# Reshape the data for RNN input\n",
    "x_train = x_train.reshape((-1, 8, 8))\n",
    "x_val = x_val.reshape((-1, 8, 8))\n",
    "x_test = x_test.reshape((-1, 8, 8))\n",
    "\n",
    "# Create the RNN model\n",
    "model_rnn = Sequential()\n",
    "model_rnn.add(SimpleRNN(32, input_shape=(8, 8), activation='relu'))\n",
    "model_rnn.add(Dense(128, activation='relu'))\n",
    "model_rnn.add(Dense(10, activation='softmax'))\n",
    "\n",
    "# Compile the model\n",
    "model_rnn.compile(optimizer='adam', loss='categorical_crossentropy', metrics=['accuracy'])\n",
    "\n",
    "# Train the model\n",
    "model_rnn.fit(x_train, y_train_one_hot, epochs=10, batch_size=32, validation_data=(x_val, y_val_one_hot), verbose=2)\n",
    "\n",
    "# Evaluate the model on the test set\n",
    "test_loss, test_accuracy = model_rnn.evaluate(x_test, y_test_one_hot, verbose=2)\n",
    "print(f'Test Accuracy: {test_accuracy}')\n",
    "\n"
   ]
  },
  {
   "cell_type": "markdown",
   "id": "d8e961ed",
   "metadata": {},
   "source": [
    "# ANN"
   ]
  },
  {
   "cell_type": "code",
   "execution_count": 24,
   "id": "34a88491",
   "metadata": {},
   "outputs": [
    {
     "name": "stdout",
     "output_type": "stream",
     "text": [
      "Epoch 1/10\n",
      "40/40 - 1s - loss: 3.0306 - accuracy: 0.3978 - val_loss: 0.7210 - val_accuracy: 0.7667 - 1s/epoch - 30ms/step\n",
      "Epoch 2/10\n",
      "40/40 - 0s - loss: 0.4360 - accuracy: 0.8496 - val_loss: 0.3581 - val_accuracy: 0.8741 - 143ms/epoch - 4ms/step\n",
      "Epoch 3/10\n",
      "40/40 - 0s - loss: 0.2363 - accuracy: 0.9157 - val_loss: 0.2783 - val_accuracy: 0.9000 - 154ms/epoch - 4ms/step\n",
      "Epoch 4/10\n",
      "40/40 - 0s - loss: 0.1756 - accuracy: 0.9411 - val_loss: 0.1995 - val_accuracy: 0.9148 - 143ms/epoch - 4ms/step\n",
      "Epoch 5/10\n",
      "40/40 - 0s - loss: 0.1135 - accuracy: 0.9642 - val_loss: 0.1687 - val_accuracy: 0.9407 - 159ms/epoch - 4ms/step\n",
      "Epoch 6/10\n",
      "40/40 - 0s - loss: 0.0852 - accuracy: 0.9817 - val_loss: 0.1452 - val_accuracy: 0.9296 - 161ms/epoch - 4ms/step\n",
      "Epoch 7/10\n",
      "40/40 - 0s - loss: 0.0683 - accuracy: 0.9841 - val_loss: 0.1378 - val_accuracy: 0.9481 - 189ms/epoch - 5ms/step\n",
      "Epoch 8/10\n",
      "40/40 - 0s - loss: 0.0534 - accuracy: 0.9920 - val_loss: 0.1297 - val_accuracy: 0.9444 - 166ms/epoch - 4ms/step\n",
      "Epoch 9/10\n",
      "40/40 - 0s - loss: 0.0395 - accuracy: 0.9960 - val_loss: 0.1391 - val_accuracy: 0.9407 - 159ms/epoch - 4ms/step\n",
      "Epoch 10/10\n",
      "40/40 - 0s - loss: 0.0356 - accuracy: 0.9984 - val_loss: 0.1359 - val_accuracy: 0.9407 - 175ms/epoch - 4ms/step\n",
      "9/9 - 0s - loss: 0.1108 - accuracy: 0.9593 - 70ms/epoch - 8ms/step\n",
      "Test Accuracy: 0.9592592716217041\n"
     ]
    }
   ],
   "source": [
    "from sklearn.model_selection import train_test_split\n",
    "from sklearn.preprocessing import LabelEncoder\n",
    "from keras.utils import to_categorical\n",
    "from keras.models import Sequential\n",
    "from keras.layers import Dense\n",
    "\n",
    "# Assuming x, y are your data and labels\n",
    "# Ensure that y contains class labels (0 to 9)\n",
    "\n",
    "# Assuming x has shape (num_samples, 64)\n",
    "# Assuming y is a 1D array of class labels\n",
    "\n",
    "# Convert labels to one-hot encoding\n",
    "label_encoder = LabelEncoder()\n",
    "y_encoded = label_encoder.fit_transform(y)\n",
    "y_one_hot = to_categorical(y_encoded)\n",
    "\n",
    "# Split the data into training, validation, and test sets\n",
    "x_train, x_temp, y_train_one_hot, y_temp_one_hot = train_test_split(x, y_one_hot, test_size=0.3, random_state=42)\n",
    "x_val, x_test, y_val_one_hot, y_test_one_hot = train_test_split(x_temp, y_temp_one_hot, test_size=0.5, random_state=42)\n",
    "\n",
    "# Flatten the data for ANN input\n",
    "x_train_flattened = x_train.reshape((x_train.shape[0], -1))\n",
    "x_val_flattened = x_val.reshape((x_val.shape[0], -1))\n",
    "x_test_flattened = x_test.reshape((x_test.shape[0], -1))\n",
    "\n",
    "# Create the ANN model\n",
    "model_ann = Sequential()\n",
    "model_ann.add(Dense(128, activation='relu', input_shape=(x_train_flattened.shape[1],)))\n",
    "model_ann.add(Dense(10, activation='softmax'))\n",
    "\n",
    "# Compile the model\n",
    "model_ann.compile(optimizer='adam', loss='categorical_crossentropy', metrics=['accuracy'])\n",
    "\n",
    "# Train the model\n",
    "model_ann.fit(x_train_flattened, y_train_one_hot, epochs=10, batch_size=32, validation_data=(x_val_flattened, y_val_one_hot), verbose=2)\n",
    "\n",
    "# Evaluate the model on the test set\n",
    "test_loss, test_accuracy = model_ann.evaluate(x_test_flattened, y_test_one_hot, verbose=2)\n",
    "print(f'Test Accuracy: {test_accuracy}')\n"
   ]
  },
  {
   "cell_type": "markdown",
   "id": "1f2956f4",
   "metadata": {},
   "source": [
    "# HYPERPARAMETER TUNING"
   ]
  },
  {
   "cell_type": "markdown",
   "id": "03daf6df",
   "metadata": {},
   "source": [
    "# HPO Algorithm 1: Grid Search"
   ]
  },
  {
   "cell_type": "code",
   "execution_count": 42,
   "id": "95cb2ad2",
   "metadata": {},
   "outputs": [],
   "source": [
    "from sklearn.model_selection import train_test_split\n",
    "from sklearn import datasets\n",
    "\n",
    "# Assuming you have a function to load and preprocess your data\n",
    "# Load example dataset (replace this with your own data loading)\n",
    "digits = datasets.load_digits()\n",
    "data = digits.images.reshape((len(digits.images), 8, 8, 1))\n",
    "labels = to_categorical(digits.target)\n",
    "\n",
    "# Split the data into training and testing sets\n",
    "x_train, x_test, y_train, y_test = train_test_split(data, labels, test_size=0.2, random_state=42)\n"
   ]
  },
  {
   "cell_type": "code",
   "execution_count": 27,
   "id": "1660c646",
   "metadata": {
    "scrolled": false
   },
   "outputs": [
    {
     "name": "stderr",
     "output_type": "stream",
     "text": [
      "[I 2024-03-07 11:20:27,378] A new study created in memory with name: no-name-db3cf095-fe5d-4dce-bca9-6c71f06e48ae\n",
      "[I 2024-03-07 11:20:31,861] Trial 0 finished with value: 0.04216071963310242 and parameters: {'filters': 54, 'dense_units': 69, 'learning_rate': 0.0037809239774234246}. Best is trial 0 with value: 0.04216071963310242.\n",
      "[I 2024-03-07 11:20:36,386] Trial 1 finished with value: 0.11303073912858963 and parameters: {'filters': 46, 'dense_units': 39, 'learning_rate': 0.0005185556994487025}. Best is trial 0 with value: 0.04216071963310242.\n",
      "[I 2024-03-07 11:20:40,662] Trial 2 finished with value: 0.12363671511411667 and parameters: {'filters': 16, 'dense_units': 38, 'learning_rate': 0.0026971591791559463}. Best is trial 0 with value: 0.04216071963310242.\n",
      "[I 2024-03-07 11:20:46,281] Trial 3 finished with value: 0.06478071957826614 and parameters: {'filters': 51, 'dense_units': 52, 'learning_rate': 0.0035784941042682054}. Best is trial 0 with value: 0.04216071963310242.\n",
      "[I 2024-03-07 11:20:50,738] Trial 4 finished with value: 0.04255831986665726 and parameters: {'filters': 63, 'dense_units': 93, 'learning_rate': 0.003343044314837091}. Best is trial 0 with value: 0.04216071963310242.\n",
      "[I 2024-03-07 11:20:55,123] Trial 5 finished with value: 0.10717497766017914 and parameters: {'filters': 37, 'dense_units': 117, 'learning_rate': 0.0003978508441041344}. Best is trial 0 with value: 0.04216071963310242.\n",
      "[I 2024-03-07 11:20:59,690] Trial 6 finished with value: 0.1038682609796524 and parameters: {'filters': 58, 'dense_units': 115, 'learning_rate': 0.006865471039274712}. Best is trial 0 with value: 0.04216071963310242.\n",
      "[I 2024-03-07 11:21:04,041] Trial 7 finished with value: 0.06851477921009064 and parameters: {'filters': 36, 'dense_units': 65, 'learning_rate': 0.001448952969845604}. Best is trial 0 with value: 0.04216071963310242.\n",
      "[I 2024-03-07 11:21:08,377] Trial 8 finished with value: 0.036547135561704636 and parameters: {'filters': 40, 'dense_units': 75, 'learning_rate': 0.0022061390175394423}. Best is trial 8 with value: 0.036547135561704636.\n",
      "[I 2024-03-07 11:21:12,651] Trial 9 finished with value: 0.10158336162567139 and parameters: {'filters': 31, 'dense_units': 32, 'learning_rate': 0.008016056401302232}. Best is trial 8 with value: 0.036547135561704636.\n"
     ]
    },
    {
     "name": "stdout",
     "output_type": "stream",
     "text": [
      "Number of finished trials: 10\n",
      "Best trial:\n",
      "Value: 0.036547135561704636\n",
      "Params: \n",
      "    filters: 40\n",
      "    dense_units: 75\n",
      "    learning_rate: 0.0022061390175394423\n",
      "Epoch 1/10\n",
      "45/45 [==============================] - 1s 5ms/step - loss: 1.3470 - accuracy: 0.6465\n",
      "Epoch 2/10\n",
      "45/45 [==============================] - 0s 5ms/step - loss: 0.2278 - accuracy: 0.9374\n",
      "Epoch 3/10\n",
      "45/45 [==============================] - 0s 4ms/step - loss: 0.1218 - accuracy: 0.9694\n",
      "Epoch 4/10\n",
      "45/45 [==============================] - 0s 4ms/step - loss: 0.0861 - accuracy: 0.9736\n",
      "Epoch 5/10\n",
      "45/45 [==============================] - 0s 4ms/step - loss: 0.0532 - accuracy: 0.9847\n",
      "Epoch 6/10\n",
      "45/45 [==============================] - 0s 4ms/step - loss: 0.0577 - accuracy: 0.9847\n",
      "Epoch 7/10\n",
      "45/45 [==============================] - 0s 4ms/step - loss: 0.0418 - accuracy: 0.9861\n",
      "Epoch 8/10\n",
      "45/45 [==============================] - 0s 5ms/step - loss: 0.0240 - accuracy: 0.9951\n",
      "Epoch 9/10\n",
      "45/45 [==============================] - 0s 5ms/step - loss: 0.0166 - accuracy: 0.9972\n",
      "Epoch 10/10\n",
      "45/45 [==============================] - 0s 5ms/step - loss: 0.0180 - accuracy: 0.9965\n",
      "12/12 [==============================] - 0s 4ms/step - loss: 0.0434 - accuracy: 0.9889\n",
      "Test Accuracy: 98.89%\n"
     ]
    }
   ],
   "source": [
    "import numpy as np\n",
    "from keras.models import Sequential\n",
    "from keras.layers import Conv2D, MaxPooling2D, Flatten, Dense\n",
    "from keras.optimizers import Adam\n",
    "from keras.utils import to_categorical\n",
    "from sklearn.model_selection import train_test_split\n",
    "from sklearn import datasets\n",
    "import optuna\n",
    "\n",
    "\n",
    "def create_model(trial):\n",
    "    model = Sequential()\n",
    "    model.add(Conv2D(filters=trial.suggest_int('filters', 16, 64),\n",
    "                     kernel_size=(3, 3),\n",
    "                     activation='relu',\n",
    "                     input_shape=(8, 8, 1)))\n",
    "    model.add(MaxPooling2D(pool_size=(2, 2)))\n",
    "    model.add(Flatten())\n",
    "    model.add(Dense(units=trial.suggest_int('dense_units', 32, 128), activation='relu'))\n",
    "    model.add(Dense(units=10, activation='softmax'))  # Assuming 10 classes for digits 0-9\n",
    "\n",
    "    model.compile(optimizer=Adam(learning_rate=trial.suggest_float('learning_rate', 1e-5, 1e-2)),\n",
    "                  loss='categorical_crossentropy',\n",
    "                  metrics=['accuracy'])\n",
    "    \n",
    "    return model\n",
    "\n",
    "def objective(trial):\n",
    "    model = create_model(trial)\n",
    "\n",
    "    # Train the model\n",
    "    model.fit(x_train, y_train, epochs=10, batch_size=32, validation_split=0.2, verbose=0)\n",
    "\n",
    "    # Evaluate the model on the validation set\n",
    "    val_loss, val_accuracy = model.evaluate(x_test, y_test, verbose=0)\n",
    "\n",
    "    return val_loss\n",
    "\n",
    "study = optuna.create_study(direction='minimize')\n",
    "study.optimize(objective, n_trials=10)\n",
    "\n",
    "print(f'Number of finished trials: {len(study.trials)}')\n",
    "print('Best trial:')\n",
    "trial = study.best_trial\n",
    "\n",
    "print(f'Value: {trial.value}')\n",
    "print('Params: ')\n",
    "for key, value in trial.params.items():\n",
    "    print(f'    {key}: {value}')\n",
    "\n",
    "# Train the final model using the best hyperparameters\n",
    "best_model = create_model(trial)\n",
    "best_model.fit(x_train, y_train, epochs=10, batch_size=32, verbose=1)\n",
    "\n",
    "# Evaluate the final model on the test set\n",
    "test_loss, test_accuracy = best_model.evaluate(x_test, y_test)\n",
    "print(f'Test Accuracy: {test_accuracy * 100:.2f}%')\n"
   ]
  },
  {
   "cell_type": "markdown",
   "id": "d05d0487",
   "metadata": {},
   "source": [
    "# HPO Algorithm 2: Random Search"
   ]
  },
  {
   "cell_type": "code",
   "execution_count": 28,
   "id": "0755fc2d",
   "metadata": {},
   "outputs": [
    {
     "name": "stderr",
     "output_type": "stream",
     "text": [
      "[I 2024-03-07 11:24:23,935] A new study created in memory with name: no-name-4a63451b-9196-4cae-aef7-95644fdc469a\n",
      "[I 2024-03-07 11:24:28,255] Trial 0 finished with value: 0.09060259163379669 and parameters: {'filters': 34, 'dense_units': 124, 'learning_rate': 0.007322619478695937}. Best is trial 0 with value: 0.09060259163379669.\n",
      "[I 2024-03-07 11:24:32,667] Trial 1 finished with value: 0.07069774717092514 and parameters: {'filters': 45, 'dense_units': 47, 'learning_rate': 0.0015683852581586646}. Best is trial 1 with value: 0.07069774717092514.\n",
      "[I 2024-03-07 11:24:36,994] Trial 2 finished with value: 0.030028099194169044 and parameters: {'filters': 18, 'dense_units': 116, 'learning_rate': 0.006015138967314656}. Best is trial 2 with value: 0.030028099194169044.\n",
      "[I 2024-03-07 11:24:41,372] Trial 3 finished with value: 0.06903693079948425 and parameters: {'filters': 50, 'dense_units': 33, 'learning_rate': 0.009699399423098323}. Best is trial 2 with value: 0.030028099194169044.\n",
      "[I 2024-03-07 11:24:45,862] Trial 4 finished with value: 0.03931182622909546 and parameters: {'filters': 56, 'dense_units': 52, 'learning_rate': 0.0018264314223989354}. Best is trial 2 with value: 0.030028099194169044.\n",
      "[I 2024-03-07 11:24:50,177] Trial 5 finished with value: 0.07178061455488205 and parameters: {'filters': 24, 'dense_units': 61, 'learning_rate': 0.005252316752006056}. Best is trial 2 with value: 0.030028099194169044.\n",
      "[I 2024-03-07 11:24:54,856] Trial 6 finished with value: 0.035844836384058 and parameters: {'filters': 37, 'dense_units': 60, 'learning_rate': 0.0061224104182765705}. Best is trial 2 with value: 0.030028099194169044.\n",
      "[I 2024-03-07 11:24:59,090] Trial 7 finished with value: 0.0683002769947052 and parameters: {'filters': 22, 'dense_units': 60, 'learning_rate': 0.0036699548145039803}. Best is trial 2 with value: 0.030028099194169044.\n",
      "[I 2024-03-07 11:25:03,754] Trial 8 finished with value: 0.0486205592751503 and parameters: {'filters': 38, 'dense_units': 108, 'learning_rate': 0.002004741083762014}. Best is trial 2 with value: 0.030028099194169044.\n",
      "[I 2024-03-07 11:25:08,306] Trial 9 finished with value: 0.11810524016618729 and parameters: {'filters': 41, 'dense_units': 89, 'learning_rate': 0.00047403962307277734}. Best is trial 2 with value: 0.030028099194169044.\n"
     ]
    },
    {
     "name": "stdout",
     "output_type": "stream",
     "text": [
      "Number of finished trials: 10\n",
      "Best trial:\n",
      "Value: 0.030028099194169044\n",
      "Params: \n",
      "    filters: 18\n",
      "    dense_units: 116\n",
      "    learning_rate: 0.006015138967314656\n",
      "Epoch 1/10\n",
      "45/45 [==============================] - 1s 7ms/step - loss: 0.8231 - accuracy: 0.7662\n",
      "Epoch 2/10\n",
      "45/45 [==============================] - 0s 5ms/step - loss: 0.1257 - accuracy: 0.9569\n",
      "Epoch 3/10\n",
      "45/45 [==============================] - 0s 4ms/step - loss: 0.0555 - accuracy: 0.9819\n",
      "Epoch 4/10\n",
      "45/45 [==============================] - 0s 4ms/step - loss: 0.0398 - accuracy: 0.9896\n",
      "Epoch 5/10\n",
      "45/45 [==============================] - 0s 4ms/step - loss: 0.0381 - accuracy: 0.9910\n",
      "Epoch 6/10\n",
      "45/45 [==============================] - 0s 4ms/step - loss: 0.0194 - accuracy: 0.9937\n",
      "Epoch 7/10\n",
      "45/45 [==============================] - 0s 6ms/step - loss: 0.0145 - accuracy: 0.9930\n",
      "Epoch 8/10\n",
      "45/45 [==============================] - 0s 6ms/step - loss: 0.0103 - accuracy: 0.9972\n",
      "Epoch 9/10\n",
      "45/45 [==============================] - 0s 7ms/step - loss: 0.0028 - accuracy: 1.0000\n",
      "Epoch 10/10\n",
      "45/45 [==============================] - 0s 6ms/step - loss: 8.3903e-04 - accuracy: 1.0000\n",
      "12/12 [==============================] - 0s 7ms/step - loss: 0.0212 - accuracy: 0.9917\n",
      "Test Accuracy: 99.17%\n"
     ]
    }
   ],
   "source": [
    "import numpy as np\n",
    "from keras.models import Sequential\n",
    "from keras.layers import Conv2D, MaxPooling2D, Flatten, Dense\n",
    "from keras.optimizers import Adam\n",
    "from keras.utils import to_categorical\n",
    "from sklearn.model_selection import train_test_split\n",
    "from sklearn import datasets\n",
    "import optuna\n",
    "\n",
    "def create_model(trial):\n",
    "    model = Sequential()\n",
    "    model.add(Conv2D(filters=trial.suggest_int('filters', 16, 64),\n",
    "                     kernel_size=(3, 3),\n",
    "                     activation='relu',\n",
    "                     input_shape=(8, 8, 1)))\n",
    "    model.add(MaxPooling2D(pool_size=(2, 2)))\n",
    "    model.add(Flatten())\n",
    "    model.add(Dense(units=trial.suggest_int('dense_units', 32, 128), activation='relu'))\n",
    "    model.add(Dense(units=10, activation='softmax'))  # Assuming 10 classes for digits 0-9\n",
    "\n",
    "    model.compile(optimizer=Adam(learning_rate=trial.suggest_float('learning_rate', 1e-5, 1e-2)),\n",
    "                  loss='categorical_crossentropy',\n",
    "                  metrics=['accuracy'])\n",
    "    \n",
    "    return model\n",
    "\n",
    "def objective(trial):\n",
    "    model = create_model(trial)\n",
    "\n",
    "    # Train the model\n",
    "    model.fit(x_train, y_train, epochs=10, batch_size=32, validation_split=0.2, verbose=0)\n",
    "\n",
    "    # Evaluate the model on the validation set\n",
    "    val_loss, val_accuracy = model.evaluate(x_test, y_test, verbose=0)\n",
    "\n",
    "    return val_loss\n",
    "\n",
    "sampler = optuna.samplers.TPESampler(seed=42)  # Use TPESampler for random search\n",
    "study = optuna.create_study(direction='minimize', sampler=sampler)\n",
    "study.optimize(objective, n_trials=10)\n",
    "\n",
    "print(f'Number of finished trials: {len(study.trials)}')\n",
    "print('Best trial:')\n",
    "trial = study.best_trial\n",
    "\n",
    "print(f'Value: {trial.value}')\n",
    "print('Params: ')\n",
    "for key, value in trial.params.items():\n",
    "    print(f'    {key}: {value}')\n",
    "\n",
    "# Train the final model using the best hyperparameters\n",
    "best_model = create_model(trial)\n",
    "best_model.fit(x_train, y_train, epochs=10, batch_size=32, verbose=1)\n",
    "\n",
    "# Evaluate the final model on the test set\n",
    "test_loss, test_accuracy = best_model.evaluate(x_test, y_test)\n",
    "print(f'Test Accuracy: {test_accuracy * 100:.2f}%')\n"
   ]
  },
  {
   "cell_type": "markdown",
   "id": "797035c4",
   "metadata": {},
   "source": [
    "# HPO Algorithm 4: Bayesian Optimization "
   ]
  },
  {
   "cell_type": "code",
   "execution_count": 52,
   "id": "63d58456",
   "metadata": {},
   "outputs": [
    {
     "name": "stderr",
     "output_type": "stream",
     "text": [
      "[I 2024-03-07 12:07:39,653] A new study created in memory with name: no-name-b0a59357-d71d-4d56-9c35-310c22885a6e\n",
      "[I 2024-03-07 12:07:44,764] Trial 0 finished with value: 0.9777777791023254 and parameters: {'num_filters': 10, 'filter_size': 4, 'num_conv_layers': 1}. Best is trial 0 with value: 0.9777777791023254.\n",
      "[I 2024-03-07 12:07:50,358] Trial 1 finished with value: 0.9472222328186035 and parameters: {'num_filters': 8, 'filter_size': 3, 'num_conv_layers': 2}. Best is trial 0 with value: 0.9777777791023254.\n",
      "[I 2024-03-07 12:07:55,811] Trial 2 finished with value: 0.980555534362793 and parameters: {'num_filters': 11, 'filter_size': 3, 'num_conv_layers': 1}. Best is trial 2 with value: 0.980555534362793.\n",
      "[I 2024-03-07 12:08:03,954] Trial 3 finished with value: 0.9861111044883728 and parameters: {'num_filters': 13, 'filter_size': 5, 'num_conv_layers': 2}. Best is trial 3 with value: 0.9861111044883728.\n",
      "[I 2024-03-07 12:08:11,558] Trial 4 finished with value: 0.9861111044883728 and parameters: {'num_filters': 26, 'filter_size': 3, 'num_conv_layers': 2}. Best is trial 3 with value: 0.9861111044883728.\n",
      "[I 2024-03-07 12:08:17,763] Trial 5 finished with value: 0.9861111044883728 and parameters: {'num_filters': 20, 'filter_size': 5, 'num_conv_layers': 1}. Best is trial 3 with value: 0.9861111044883728.\n",
      "[I 2024-03-07 12:08:28,444] Trial 6 finished with value: 0.9833333492279053 and parameters: {'num_filters': 37, 'filter_size': 4, 'num_conv_layers': 2}. Best is trial 3 with value: 0.9861111044883728.\n",
      "[I 2024-03-07 12:08:43,877] Trial 7 finished with value: 0.9916666746139526 and parameters: {'num_filters': 64, 'filter_size': 4, 'num_conv_layers': 2}. Best is trial 7 with value: 0.9916666746139526.\n",
      "[I 2024-03-07 12:08:53,322] Trial 8 finished with value: 0.9888888597488403 and parameters: {'num_filters': 26, 'filter_size': 3, 'num_conv_layers': 3}. Best is trial 7 with value: 0.9916666746139526.\n",
      "[I 2024-03-07 12:08:59,734] Trial 9 finished with value: 0.9888888597488403 and parameters: {'num_filters': 19, 'filter_size': 5, 'num_conv_layers': 1}. Best is trial 7 with value: 0.9916666746139526.\n",
      "[I 2024-03-07 12:09:18,710] Trial 10 finished with value: 0.9972222447395325 and parameters: {'num_filters': 64, 'filter_size': 4, 'num_conv_layers': 3}. Best is trial 10 with value: 0.9972222447395325.\n",
      "[I 2024-03-07 12:09:37,552] Trial 11 finished with value: 0.9916666746139526 and parameters: {'num_filters': 60, 'filter_size': 4, 'num_conv_layers': 3}. Best is trial 10 with value: 0.9972222447395325.\n",
      "[I 2024-03-07 12:09:56,235] Trial 12 finished with value: 0.9861111044883728 and parameters: {'num_filters': 64, 'filter_size': 4, 'num_conv_layers': 3}. Best is trial 10 with value: 0.9972222447395325.\n",
      "[I 2024-03-07 12:10:11,021] Trial 13 finished with value: 0.9861111044883728 and parameters: {'num_filters': 44, 'filter_size': 4, 'num_conv_layers': 3}. Best is trial 10 with value: 0.9972222447395325.\n",
      "[I 2024-03-07 12:10:22,349] Trial 14 finished with value: 0.9833333492279053 and parameters: {'num_filters': 43, 'filter_size': 4, 'num_conv_layers': 2}. Best is trial 10 with value: 0.9972222447395325.\n",
      "[I 2024-03-07 12:10:43,800] Trial 15 finished with value: 0.9888888597488403 and parameters: {'num_filters': 50, 'filter_size': 5, 'num_conv_layers': 3}. Best is trial 10 with value: 0.9972222447395325.\n",
      "[I 2024-03-07 12:10:53,791] Trial 16 finished with value: 0.9916666746139526 and parameters: {'num_filters': 33, 'filter_size': 4, 'num_conv_layers': 2}. Best is trial 10 with value: 0.9972222447395325.\n",
      "[I 2024-03-07 12:11:07,741] Trial 17 finished with value: 0.9916666746139526 and parameters: {'num_filters': 52, 'filter_size': 3, 'num_conv_layers': 3}. Best is trial 10 with value: 0.9972222447395325.\n",
      "[I 2024-03-07 12:11:17,764] Trial 18 finished with value: 0.980555534362793 and parameters: {'num_filters': 33, 'filter_size': 4, 'num_conv_layers': 2}. Best is trial 10 with value: 0.9972222447395325.\n",
      "[I 2024-03-07 12:11:27,561] Trial 19 finished with value: 0.9833333492279053 and parameters: {'num_filters': 16, 'filter_size': 5, 'num_conv_layers': 3}. Best is trial 10 with value: 0.9972222447395325.\n"
     ]
    },
    {
     "name": "stdout",
     "output_type": "stream",
     "text": [
      "Best parameters: {'num_filters': 64, 'filter_size': 4, 'num_conv_layers': 3}\n",
      "Best accuracy: 99.72%\n"
     ]
    }
   ],
   "source": [
    "import random\n",
    "import optuna\n",
    "from sklearn.model_selection import train_test_split\n",
    "from sklearn.metrics import accuracy_score\n",
    "from tensorflow.keras import layers, models\n",
    "import numpy as np\n",
    "\n",
    "\n",
    "# Assuming x and y are NumPy arrays\n",
    "x = x.reshape(-1, 8, 8, 1)  # Reshape to (num_samples, 8, 8, 1)\n",
    "\n",
    "# Define the CNN model\n",
    "def create_model(trial):\n",
    "    model = models.Sequential()\n",
    "    \n",
    "    # Choose an optimal number of filters and filter size\n",
    "    num_filters = trial.suggest_int('num_filters', 8, 64, log=True)\n",
    "    filter_size = trial.suggest_int('filter_size', 3, 5)\n",
    "    \n",
    "    model.add(layers.Conv2D(num_filters, (filter_size, filter_size), activation='relu', input_shape=(8, 8, 1), padding='same'))\n",
    "    \n",
    "    # Add more convolutional layers\n",
    "    for i in range(trial.suggest_int('num_conv_layers', 1, 3)):\n",
    "        model.add(layers.Conv2D(num_filters, (filter_size, filter_size), activation='relu', input_shape=(8, 8, 1), padding='same'))\n",
    "        # Check the dimensions before applying max pooling\n",
    "        if model.output_shape[1] >= 2 and model.output_shape[2] >= 2:\n",
    "            model.add(layers.MaxPooling2D((2, 2)))\n",
    "\n",
    "    model.add(layers.Flatten())\n",
    "    model.add(layers.Dense(10, activation='softmax'))\n",
    "    \n",
    "    # Compile the model\n",
    "    model.compile(optimizer='adam', loss='sparse_categorical_crossentropy', metrics=['accuracy'])\n",
    "\n",
    "    return model\n",
    "\n",
    "# Train and evaluate the model with the given hyperparameters\n",
    "def train_and_evaluate(model, x_train, y_train, x_val, y_val):\n",
    "    model.fit(x_train, y_train, epochs=10, validation_data=(x_val, y_val), batch_size=32, verbose=0)\n",
    "    accuracy = model.evaluate(x_val, y_val, verbose=0)[1]\n",
    "    return accuracy\n",
    "\n",
    "# Objective function for Optuna\n",
    "def objective(trial, x_train, y_train, x_val, y_val):\n",
    "    model = create_model(trial)\n",
    "    accuracy = train_and_evaluate(model, x_train, y_train, x_val, y_val)\n",
    "    return accuracy\n",
    "\n",
    "# Split your data into training and validation sets\n",
    "x_train, x_val, y_train, y_val = train_test_split(x, y, test_size=0.2, random_state=42)\n",
    "\n",
    "# Create study object and optimize\n",
    "study = optuna.create_study(direction='maximize')\n",
    "study.optimize(lambda trial: objective(trial, x_train, y_train, x_val, y_val), n_trials=20)\n",
    "\n",
    "# Get the best parameters and results\n",
    "best_params = study.best_params\n",
    "best_accuracy = study.best_value\n",
    "\n",
    "# Print the results\n",
    "print(f\"Best parameters: {best_params}\")\n",
    "print(f\"Best accuracy: {best_accuracy * 100:.2f}%\")\n"
   ]
  },
  {
   "cell_type": "code",
   "execution_count": null,
   "id": "916f7bda",
   "metadata": {},
   "outputs": [],
   "source": []
  }
 ],
 "metadata": {
  "kernelspec": {
   "display_name": "Python 3 (ipykernel)",
   "language": "python",
   "name": "python3"
  },
  "language_info": {
   "codemirror_mode": {
    "name": "ipython",
    "version": 3
   },
   "file_extension": ".py",
   "mimetype": "text/x-python",
   "name": "python",
   "nbconvert_exporter": "python",
   "pygments_lexer": "ipython3",
   "version": "3.11.5"
  }
 },
 "nbformat": 4,
 "nbformat_minor": 5
}
